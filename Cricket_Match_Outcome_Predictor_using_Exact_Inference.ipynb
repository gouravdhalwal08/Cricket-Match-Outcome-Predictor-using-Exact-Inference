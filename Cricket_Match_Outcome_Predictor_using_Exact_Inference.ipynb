{
  "nbformat": 4,
  "nbformat_minor": 0,
  "metadata": {
    "colab": {
      "provenance": [],
      "authorship_tag": "ABX9TyOiVqVipOce7dFd/6RLXyPy",
      "include_colab_link": true
    },
    "kernelspec": {
      "name": "python3",
      "display_name": "Python 3"
    },
    "language_info": {
      "name": "python"
    }
  },
  "cells": [
    {
      "cell_type": "markdown",
      "metadata": {
        "id": "view-in-github",
        "colab_type": "text"
      },
      "source": [
        "<a href=\"https://colab.research.google.com/github/gouravdhalwal08/Cricket-Match-Outcome-Predictor-using-Exact-Inference/blob/main/Cricket_Match_Outcome_Predictor_using_Exact_Inference.ipynb\" target=\"_parent\"><img src=\"https://colab.research.google.com/assets/colab-badge.svg\" alt=\"Open In Colab\"/></a>"
      ]
    },
    {
      "cell_type": "code",
      "execution_count": null,
      "metadata": {
        "colab": {
          "base_uri": "https://localhost:8080/"
        },
        "id": "2xOIezqgHOSj",
        "outputId": "a894e388-6fae-477e-8888-656a3739114c"
      },
      "outputs": [
        {
          "output_type": "stream",
          "name": "stdout",
          "text": [
            "Requirement already satisfied: pgmpy in /usr/local/lib/python3.10/dist-packages (0.1.26)\n",
            "Requirement already satisfied: networkx in /usr/local/lib/python3.10/dist-packages (from pgmpy) (3.4.1)\n",
            "Requirement already satisfied: numpy in /usr/local/lib/python3.10/dist-packages (from pgmpy) (1.26.4)\n",
            "Requirement already satisfied: scipy in /usr/local/lib/python3.10/dist-packages (from pgmpy) (1.13.1)\n",
            "Requirement already satisfied: scikit-learn in /usr/local/lib/python3.10/dist-packages (from pgmpy) (1.5.2)\n",
            "Requirement already satisfied: pandas in /usr/local/lib/python3.10/dist-packages (from pgmpy) (2.2.2)\n",
            "Requirement already satisfied: pyparsing in /usr/local/lib/python3.10/dist-packages (from pgmpy) (3.2.0)\n",
            "Requirement already satisfied: torch in /usr/local/lib/python3.10/dist-packages (from pgmpy) (2.4.1+cu121)\n",
            "Requirement already satisfied: statsmodels in /usr/local/lib/python3.10/dist-packages (from pgmpy) (0.14.4)\n",
            "Requirement already satisfied: tqdm in /usr/local/lib/python3.10/dist-packages (from pgmpy) (4.66.5)\n",
            "Requirement already satisfied: joblib in /usr/local/lib/python3.10/dist-packages (from pgmpy) (1.4.2)\n",
            "Requirement already satisfied: opt-einsum in /usr/local/lib/python3.10/dist-packages (from pgmpy) (3.4.0)\n",
            "Requirement already satisfied: xgboost in /usr/local/lib/python3.10/dist-packages (from pgmpy) (2.1.1)\n",
            "Requirement already satisfied: google-generativeai in /usr/local/lib/python3.10/dist-packages (from pgmpy) (0.7.2)\n",
            "Requirement already satisfied: google-ai-generativelanguage==0.6.6 in /usr/local/lib/python3.10/dist-packages (from google-generativeai->pgmpy) (0.6.6)\n",
            "Requirement already satisfied: google-api-core in /usr/local/lib/python3.10/dist-packages (from google-generativeai->pgmpy) (2.19.2)\n",
            "Requirement already satisfied: google-api-python-client in /usr/local/lib/python3.10/dist-packages (from google-generativeai->pgmpy) (2.137.0)\n",
            "Requirement already satisfied: google-auth>=2.15.0 in /usr/local/lib/python3.10/dist-packages (from google-generativeai->pgmpy) (2.27.0)\n",
            "Requirement already satisfied: protobuf in /usr/local/lib/python3.10/dist-packages (from google-generativeai->pgmpy) (3.20.3)\n",
            "Requirement already satisfied: pydantic in /usr/local/lib/python3.10/dist-packages (from google-generativeai->pgmpy) (2.9.2)\n",
            "Requirement already satisfied: typing-extensions in /usr/local/lib/python3.10/dist-packages (from google-generativeai->pgmpy) (4.12.2)\n",
            "Requirement already satisfied: proto-plus<2.0.0dev,>=1.22.3 in /usr/local/lib/python3.10/dist-packages (from google-ai-generativelanguage==0.6.6->google-generativeai->pgmpy) (1.24.0)\n",
            "Requirement already satisfied: python-dateutil>=2.8.2 in /usr/local/lib/python3.10/dist-packages (from pandas->pgmpy) (2.8.2)\n",
            "Requirement already satisfied: pytz>=2020.1 in /usr/local/lib/python3.10/dist-packages (from pandas->pgmpy) (2024.2)\n",
            "Requirement already satisfied: tzdata>=2022.7 in /usr/local/lib/python3.10/dist-packages (from pandas->pgmpy) (2024.2)\n",
            "Requirement already satisfied: threadpoolctl>=3.1.0 in /usr/local/lib/python3.10/dist-packages (from scikit-learn->pgmpy) (3.5.0)\n",
            "Requirement already satisfied: patsy>=0.5.6 in /usr/local/lib/python3.10/dist-packages (from statsmodels->pgmpy) (0.5.6)\n",
            "Requirement already satisfied: packaging>=21.3 in /usr/local/lib/python3.10/dist-packages (from statsmodels->pgmpy) (24.1)\n",
            "Requirement already satisfied: filelock in /usr/local/lib/python3.10/dist-packages (from torch->pgmpy) (3.16.1)\n",
            "Requirement already satisfied: sympy in /usr/local/lib/python3.10/dist-packages (from torch->pgmpy) (1.13.3)\n",
            "Requirement already satisfied: jinja2 in /usr/local/lib/python3.10/dist-packages (from torch->pgmpy) (3.1.4)\n",
            "Requirement already satisfied: fsspec in /usr/local/lib/python3.10/dist-packages (from torch->pgmpy) (2024.6.1)\n",
            "Requirement already satisfied: nvidia-nccl-cu12 in /usr/local/lib/python3.10/dist-packages (from xgboost->pgmpy) (2.23.4)\n",
            "Requirement already satisfied: googleapis-common-protos<2.0.dev0,>=1.56.2 in /usr/local/lib/python3.10/dist-packages (from google-api-core->google-generativeai->pgmpy) (1.65.0)\n",
            "Requirement already satisfied: requests<3.0.0.dev0,>=2.18.0 in /usr/local/lib/python3.10/dist-packages (from google-api-core->google-generativeai->pgmpy) (2.32.3)\n",
            "Requirement already satisfied: cachetools<6.0,>=2.0.0 in /usr/local/lib/python3.10/dist-packages (from google-auth>=2.15.0->google-generativeai->pgmpy) (5.5.0)\n",
            "Requirement already satisfied: pyasn1-modules>=0.2.1 in /usr/local/lib/python3.10/dist-packages (from google-auth>=2.15.0->google-generativeai->pgmpy) (0.4.1)\n",
            "Requirement already satisfied: rsa<5,>=3.1.4 in /usr/local/lib/python3.10/dist-packages (from google-auth>=2.15.0->google-generativeai->pgmpy) (4.9)\n",
            "Requirement already satisfied: six in /usr/local/lib/python3.10/dist-packages (from patsy>=0.5.6->statsmodels->pgmpy) (1.16.0)\n",
            "Requirement already satisfied: httplib2<1.dev0,>=0.19.0 in /usr/local/lib/python3.10/dist-packages (from google-api-python-client->google-generativeai->pgmpy) (0.22.0)\n",
            "Requirement already satisfied: google-auth-httplib2<1.0.0,>=0.2.0 in /usr/local/lib/python3.10/dist-packages (from google-api-python-client->google-generativeai->pgmpy) (0.2.0)\n",
            "Requirement already satisfied: uritemplate<5,>=3.0.1 in /usr/local/lib/python3.10/dist-packages (from google-api-python-client->google-generativeai->pgmpy) (4.1.1)\n",
            "Requirement already satisfied: MarkupSafe>=2.0 in /usr/local/lib/python3.10/dist-packages (from jinja2->torch->pgmpy) (3.0.1)\n",
            "Requirement already satisfied: annotated-types>=0.6.0 in /usr/local/lib/python3.10/dist-packages (from pydantic->google-generativeai->pgmpy) (0.7.0)\n",
            "Requirement already satisfied: pydantic-core==2.23.4 in /usr/local/lib/python3.10/dist-packages (from pydantic->google-generativeai->pgmpy) (2.23.4)\n",
            "Requirement already satisfied: mpmath<1.4,>=1.1.0 in /usr/local/lib/python3.10/dist-packages (from sympy->torch->pgmpy) (1.3.0)\n",
            "Requirement already satisfied: grpcio<2.0dev,>=1.33.2 in /usr/local/lib/python3.10/dist-packages (from google-api-core[grpc]!=2.0.*,!=2.1.*,!=2.10.*,!=2.2.*,!=2.3.*,!=2.4.*,!=2.5.*,!=2.6.*,!=2.7.*,!=2.8.*,!=2.9.*,<3.0.0dev,>=1.34.1->google-ai-generativelanguage==0.6.6->google-generativeai->pgmpy) (1.64.1)\n",
            "Requirement already satisfied: grpcio-status<2.0.dev0,>=1.33.2 in /usr/local/lib/python3.10/dist-packages (from google-api-core[grpc]!=2.0.*,!=2.1.*,!=2.10.*,!=2.2.*,!=2.3.*,!=2.4.*,!=2.5.*,!=2.6.*,!=2.7.*,!=2.8.*,!=2.9.*,<3.0.0dev,>=1.34.1->google-ai-generativelanguage==0.6.6->google-generativeai->pgmpy) (1.48.2)\n",
            "Requirement already satisfied: pyasn1<0.7.0,>=0.4.6 in /usr/local/lib/python3.10/dist-packages (from pyasn1-modules>=0.2.1->google-auth>=2.15.0->google-generativeai->pgmpy) (0.6.1)\n",
            "Requirement already satisfied: charset-normalizer<4,>=2 in /usr/local/lib/python3.10/dist-packages (from requests<3.0.0.dev0,>=2.18.0->google-api-core->google-generativeai->pgmpy) (3.4.0)\n",
            "Requirement already satisfied: idna<4,>=2.5 in /usr/local/lib/python3.10/dist-packages (from requests<3.0.0.dev0,>=2.18.0->google-api-core->google-generativeai->pgmpy) (3.10)\n",
            "Requirement already satisfied: urllib3<3,>=1.21.1 in /usr/local/lib/python3.10/dist-packages (from requests<3.0.0.dev0,>=2.18.0->google-api-core->google-generativeai->pgmpy) (2.2.3)\n",
            "Requirement already satisfied: certifi>=2017.4.17 in /usr/local/lib/python3.10/dist-packages (from requests<3.0.0.dev0,>=2.18.0->google-api-core->google-generativeai->pgmpy) (2024.8.30)\n"
          ]
        }
      ],
      "source": [
        "pip install pgmpy"
      ]
    },
    {
      "cell_type": "code",
      "source": [
        "# Import necessary libraries\n",
        "from pgmpy.models import BayesianNetwork\n",
        "from pgmpy.factors.discrete import TabularCPD\n",
        "from pgmpy.inference import VariableElimination"
      ],
      "metadata": {
        "id": "8iFRqAuGHbSl"
      },
      "execution_count": null,
      "outputs": []
    },
    {
      "cell_type": "code",
      "source": [
        "# Step 1: Define the structure of the Bayesian Network\n",
        "# Nodes: Team Strength, Weather, Pitch Condition, Outcome\n",
        "model = BayesianNetwork([('Team Strength', 'Outcome'),\n",
        "                         ('Weather', 'Outcome'),\n",
        "                         ('Pitch Condition', 'Outcome')])"
      ],
      "metadata": {
        "id": "01oXIa0JHiqw"
      },
      "execution_count": null,
      "outputs": []
    },
    {
      "cell_type": "code",
      "source": [
        "\n",
        "# Step 2: Define the Conditional Probability Distributions (CPDs)\n",
        "\n",
        "# CPD for Team Strength (1: Strong, 0: Weak)\n",
        "cpd_team_strength = TabularCPD(variable='Team Strength', variable_card=2,\n",
        "                               values=[[0.7], [0.3]])  # 70% Strong, 30% Weak"
      ],
      "metadata": {
        "id": "h7S3yo98HmCt"
      },
      "execution_count": null,
      "outputs": []
    },
    {
      "cell_type": "code",
      "source": [
        "print(cpd_team_strength)"
      ],
      "metadata": {
        "colab": {
          "base_uri": "https://localhost:8080/"
        },
        "id": "fHSIj93YK3Zh",
        "outputId": "1df33db7-87a5-4979-c2dc-50539991312b"
      },
      "execution_count": null,
      "outputs": [
        {
          "output_type": "stream",
          "name": "stdout",
          "text": [
            "+------------------+-----+\n",
            "| Team Strength(0) | 0.7 |\n",
            "+------------------+-----+\n",
            "| Team Strength(1) | 0.3 |\n",
            "+------------------+-----+\n"
          ]
        }
      ]
    },
    {
      "cell_type": "code",
      "source": [
        "# CPD for Weather (1: Good, 0: Bad)\n",
        "cpd_weather = TabularCPD(variable='Weather', variable_card=2,\n",
        "                         values=[[0.8], [0.2]])  # 80% Good, 20% Bad"
      ],
      "metadata": {
        "id": "Li6Kjj5GHpY9"
      },
      "execution_count": null,
      "outputs": []
    },
    {
      "cell_type": "code",
      "source": [
        "print(cpd_weather)"
      ],
      "metadata": {
        "colab": {
          "base_uri": "https://localhost:8080/"
        },
        "id": "6P4Yw2_xKzCx",
        "outputId": "af803744-0a19-44f7-aea1-1d39058e63cd"
      },
      "execution_count": null,
      "outputs": [
        {
          "output_type": "stream",
          "name": "stdout",
          "text": [
            "+------------+-----+\n",
            "| Weather(0) | 0.8 |\n",
            "+------------+-----+\n",
            "| Weather(1) | 0.2 |\n",
            "+------------+-----+\n"
          ]
        }
      ]
    },
    {
      "cell_type": "code",
      "source": [
        "# CPD for Pitch Condition (1: Favorable, 0: Unfavorable)\n",
        "cpd_pitch_condition = TabularCPD(variable='Pitch Condition', variable_card=2,\n",
        "                                 values=[[0.6], [0.4]])  # 60% Favorable, 40% Unfavorable\n"
      ],
      "metadata": {
        "id": "2yLQoZh9HrQ7"
      },
      "execution_count": null,
      "outputs": []
    },
    {
      "cell_type": "code",
      "source": [
        "print(cpd_pitch_condition)"
      ],
      "metadata": {
        "colab": {
          "base_uri": "https://localhost:8080/"
        },
        "id": "UXCcHgvPLDLe",
        "outputId": "e3dc46ea-9106-49e3-9153-7a6db63916f0"
      },
      "execution_count": null,
      "outputs": [
        {
          "output_type": "stream",
          "name": "stdout",
          "text": [
            "+--------------------+-----+\n",
            "| Pitch Condition(0) | 0.6 |\n",
            "+--------------------+-----+\n",
            "| Pitch Condition(1) | 0.4 |\n",
            "+--------------------+-----+\n"
          ]
        }
      ]
    },
    {
      "cell_type": "code",
      "source": [
        "# CPD for Outcome (1: Win, 0: Loss)\n",
        "cpd_outcome = TabularCPD(variable='Outcome', variable_card=2,\n",
        "                         values=[[0.9, 0.7, 0.6, 0.4, 0.3, 0.1, 0.5, 0.2],  # Prob of Win\n",
        "                                 [0.1, 0.3, 0.4, 0.6, 0.7, 0.9, 0.5, 0.8]],  # Prob of Loss\n",
        "                         evidence=['Team Strength', 'Weather', 'Pitch Condition'],\n",
        "                         evidence_card=[2, 2, 2])"
      ],
      "metadata": {
        "id": "GR4xdlZZHtWK"
      },
      "execution_count": null,
      "outputs": []
    },
    {
      "cell_type": "code",
      "source": [
        "print(cpd_outcome)"
      ],
      "metadata": {
        "colab": {
          "base_uri": "https://localhost:8080/"
        },
        "id": "0MNjDCO-L0uD",
        "outputId": "a11df27d-3943-4896-a850-875247efc008"
      },
      "execution_count": null,
      "outputs": [
        {
          "output_type": "stream",
          "name": "stdout",
          "text": [
            "+-----------------+--------------------+-----+--------------------+--------------------+\n",
            "| Team Strength   | Team Strength(0)   | ... | Team Strength(1)   | Team Strength(1)   |\n",
            "+-----------------+--------------------+-----+--------------------+--------------------+\n",
            "| Weather         | Weather(0)         | ... | Weather(1)         | Weather(1)         |\n",
            "+-----------------+--------------------+-----+--------------------+--------------------+\n",
            "| Pitch Condition | Pitch Condition(0) | ... | Pitch Condition(0) | Pitch Condition(1) |\n",
            "+-----------------+--------------------+-----+--------------------+--------------------+\n",
            "| Outcome(0)      | 0.9                | ... | 0.5                | 0.2                |\n",
            "+-----------------+--------------------+-----+--------------------+--------------------+\n",
            "| Outcome(1)      | 0.1                | ... | 0.5                | 0.8                |\n",
            "+-----------------+--------------------+-----+--------------------+--------------------+\n"
          ]
        }
      ]
    },
    {
      "cell_type": "code",
      "source": [
        "# Step 3: Add CPDs to the model\n",
        "model.add_cpds(cpd_team_strength, cpd_weather, cpd_pitch_condition, cpd_outcome)\n"
      ],
      "metadata": {
        "id": "u9UAcarjHu_R"
      },
      "execution_count": null,
      "outputs": []
    },
    {
      "cell_type": "code",
      "source": [
        "\n",
        "# Step 4: Validate the model\n",
        "assert model.check_model()"
      ],
      "metadata": {
        "id": "UPMFbZlFHxCm"
      },
      "execution_count": null,
      "outputs": []
    },
    {
      "cell_type": "code",
      "source": [
        "# Step 5: Perform Exact Inference using Variable Elimination\n",
        "inference = VariableElimination(model)"
      ],
      "metadata": {
        "id": "1OQMryEGHyhi"
      },
      "execution_count": null,
      "outputs": []
    },
    {
      "cell_type": "code",
      "source": [
        "# Example Queries:\n",
        "# Query 1: Given that the team is strong, weather is good, and the pitch is favorable,\n",
        "# What is the probability of winning?\n",
        "result = inference.query(variables=['Outcome'], evidence={'Team Strength': 1, 'Weather': 1, 'Pitch Condition': 1})\n",
        "print(\"\\nPrediction with Strong Team, Good Weather, Favorable Pitch:\")\n",
        "print(result)"
      ],
      "metadata": {
        "colab": {
          "base_uri": "https://localhost:8080/"
        },
        "id": "gzZzZ0_KH0LL",
        "outputId": "821d90f3-7c24-40b6-9414-6a4f6c2b13d2"
      },
      "execution_count": null,
      "outputs": [
        {
          "output_type": "stream",
          "name": "stdout",
          "text": [
            "\n",
            "Prediction with Strong Team, Good Weather, Favorable Pitch:\n",
            "+------------+----------------+\n",
            "| Outcome    |   phi(Outcome) |\n",
            "+============+================+\n",
            "| Outcome(0) |         0.2000 |\n",
            "+------------+----------------+\n",
            "| Outcome(1) |         0.8000 |\n",
            "+------------+----------------+\n"
          ]
        }
      ]
    },
    {
      "cell_type": "code",
      "source": [
        "# Query 2: Given that the team is weak, weather is bad, and the pitch is unfavorable,\n",
        "# what is the probability of winning?\n",
        "result = inference.query(variables=['Outcome'], evidence={'Team Strength': 0, 'Weather': 0, 'Pitch Condition': 0})\n",
        "print(\"\\nPrediction with Weak Team, Bad Weather, Unfavorable Pitch:\")\n",
        "print(result)\n"
      ],
      "metadata": {
        "colab": {
          "base_uri": "https://localhost:8080/"
        },
        "id": "R8wuBrCLH3nf",
        "outputId": "9bb998f9-fd0c-46e0-816a-95af76ade59e"
      },
      "execution_count": null,
      "outputs": [
        {
          "output_type": "stream",
          "name": "stdout",
          "text": [
            "\n",
            "Prediction with Weak Team, Bad Weather, Unfavorable Pitch:\n",
            "+------------+----------------+\n",
            "| Outcome    |   phi(Outcome) |\n",
            "+============+================+\n",
            "| Outcome(0) |         0.9000 |\n",
            "+------------+----------------+\n",
            "| Outcome(1) |         0.1000 |\n",
            "+------------+----------------+\n"
          ]
        }
      ]
    },
    {
      "cell_type": "code",
      "source": [
        "\n",
        "# Query 3: Given that the team is strong and the weather is bad (ignoring pitch condition),\n",
        "# what is the probability of winning?\n",
        "result = inference.query(variables=['Outcome'], evidence={'Team Strength': 1, 'Weather': 0})\n",
        "print(\"\\nPrediction with Strong Team, Bad Weather (Pitch Unknown):\")\n",
        "print(result)"
      ],
      "metadata": {
        "colab": {
          "base_uri": "https://localhost:8080/"
        },
        "id": "fqY4MnwTH6sL",
        "outputId": "1e51ab8b-a379-4786-9f46-d3247c38b03d"
      },
      "execution_count": null,
      "outputs": [
        {
          "output_type": "stream",
          "name": "stdout",
          "text": [
            "\n",
            "Prediction with Strong Team, Bad Weather (Pitch Unknown):\n",
            "+------------+----------------+\n",
            "| Outcome    |   phi(Outcome) |\n",
            "+============+================+\n",
            "| Outcome(0) |         0.2200 |\n",
            "+------------+----------------+\n",
            "| Outcome(1) |         0.7800 |\n",
            "+------------+----------------+\n"
          ]
        }
      ]
    },
    {
      "cell_type": "code",
      "source": [],
      "metadata": {
        "id": "sHJARWlXH8Tg"
      },
      "execution_count": null,
      "outputs": []
    }
  ]
}